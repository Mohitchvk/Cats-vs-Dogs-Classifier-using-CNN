{
 "cells": [
  {
   "cell_type": "code",
   "execution_count": 202,
   "metadata": {},
   "outputs": [],
   "source": [
    "import pandas as pd\n",
    "import numpy as np\n",
    "import matplotlib.pyplot as plt\n",
    "%matplotlib inline"
   ]
  },
  {
   "cell_type": "code",
   "execution_count": 203,
   "metadata": {},
   "outputs": [],
   "source": [
    "import os"
   ]
  },
  {
   "cell_type": "code",
   "execution_count": 204,
   "metadata": {},
   "outputs": [],
   "source": [
    "import cv2"
   ]
  },
  {
   "cell_type": "code",
   "execution_count": 205,
   "metadata": {},
   "outputs": [],
   "source": [
    "import keras"
   ]
  },
  {
   "cell_type": "code",
   "execution_count": 206,
   "metadata": {},
   "outputs": [],
   "source": [
    "import pickle"
   ]
  },
  {
   "cell_type": "code",
   "execution_count": 207,
   "metadata": {},
   "outputs": [],
   "source": [
    "DATADIR=\"C:/Users/MOHIT CHVK/Desktop/new trash/dataset/training_set\"\n",
    "CATEGORIES=[\"dogs\",\"cats\"]"
   ]
  },
  {
   "cell_type": "code",
   "execution_count": 208,
   "metadata": {},
   "outputs": [],
   "source": [
    "IMG_SIZE=72"
   ]
  },
  {
   "cell_type": "code",
   "execution_count": 209,
   "metadata": {},
   "outputs": [],
   "source": [
    "training_data=[]\n",
    "def create_training_data():\n",
    "    for category in CATEGORIES:\n",
    "        path=os.path.join(DATADIR,category)\n",
    "        class_num=CATEGORIES.index(category)\n",
    "        for img in os.listdir(path):\n",
    "            try:\n",
    "                img_array=cv2.imread(os.path.join(path,img),cv2.IMREAD_GRAYSCALE)\n",
    "                new_array=cv2.resize(img_array,(IMG_SIZE,IMG_SIZE))\n",
    "                training_data.append([new_array,class_num])\n",
    "            except Exception as e:\n",
    "                pass\n",
    "create_training_data()"
   ]
  },
  {
   "cell_type": "code",
   "execution_count": 210,
   "metadata": {},
   "outputs": [
    {
     "name": "stdout",
     "output_type": "stream",
     "text": [
      "8000\n"
     ]
    }
   ],
   "source": [
    "print(len(training_data))"
   ]
  },
  {
   "cell_type": "code",
   "execution_count": 211,
   "metadata": {},
   "outputs": [],
   "source": [
    "import random\n",
    "random.shuffle(training_data)"
   ]
  },
  {
   "cell_type": "code",
   "execution_count": 212,
   "metadata": {},
   "outputs": [
    {
     "name": "stdout",
     "output_type": "stream",
     "text": [
      "0\n",
      "1\n",
      "0\n",
      "1\n",
      "1\n",
      "0\n",
      "1\n",
      "0\n",
      "0\n",
      "1\n"
     ]
    }
   ],
   "source": [
    "for sample in training_data[:10]:\n",
    "    print(sample[1])"
   ]
  },
  {
   "cell_type": "code",
   "execution_count": 213,
   "metadata": {},
   "outputs": [],
   "source": [
    "X=[]\n",
    "y=[]"
   ]
  },
  {
   "cell_type": "code",
   "execution_count": 214,
   "metadata": {},
   "outputs": [],
   "source": [
    "for features,label in training_data:\n",
    "    X.append(features)\n",
    "    y.append(label)"
   ]
  },
  {
   "cell_type": "code",
   "execution_count": 215,
   "metadata": {},
   "outputs": [],
   "source": [
    "x=np.array(X).reshape(-1,IMG_SIZE,IMG_SIZE,1)"
   ]
  },
  {
   "cell_type": "code",
   "execution_count": 216,
   "metadata": {},
   "outputs": [],
   "source": [
    "import pickle\n",
    "pickle_out=open(\"X.pickle\",\"wb\")\n",
    "pickle.dump(x,pickle_out)\n",
    "pickle_out.close()"
   ]
  },
  {
   "cell_type": "code",
   "execution_count": 217,
   "metadata": {},
   "outputs": [],
   "source": [
    "pickle_out=open(\"y.pickle\",\"wb\")\n",
    "pickle.dump(y,pickle_out)\n",
    "pickle_out.close()"
   ]
  },
  {
   "cell_type": "code",
   "execution_count": 218,
   "metadata": {},
   "outputs": [],
   "source": [
    "import tensorflow as tf\n",
    "from tensorflow.keras.models import Sequential\n",
    "from tensorflow.keras.layers import Dense,Dropout,Activation,Flatten,Conv2D,MaxPooling2D"
   ]
  },
  {
   "cell_type": "code",
   "execution_count": 219,
   "metadata": {},
   "outputs": [],
   "source": [
    "X=pickle.load(open(\"X.pickle\",\"rb\"))\n",
    "y=pickle.load(open(\"y.pickle\",\"rb\"))"
   ]
  },
  {
   "cell_type": "code",
   "execution_count": 220,
   "metadata": {},
   "outputs": [],
   "source": [
    "X=X/255.0"
   ]
  },
  {
   "cell_type": "code",
   "execution_count": 221,
   "metadata": {},
   "outputs": [
    {
     "data": {
      "text/plain": [
       "array([[[0.82352941],\n",
       "        [0.82352941],\n",
       "        [0.82745098],\n",
       "        ...,\n",
       "        [0.05490196],\n",
       "        [0.11764706],\n",
       "        [0.13333333]],\n",
       "\n",
       "       [[0.83529412],\n",
       "        [0.83529412],\n",
       "        [0.82745098],\n",
       "        ...,\n",
       "        [0.0627451 ],\n",
       "        [0.09803922],\n",
       "        [0.09411765]],\n",
       "\n",
       "       [[0.83921569],\n",
       "        [0.83921569],\n",
       "        [0.84313725],\n",
       "        ...,\n",
       "        [0.09019608],\n",
       "        [0.09803922],\n",
       "        [0.12941176]],\n",
       "\n",
       "       ...,\n",
       "\n",
       "       [[0.74901961],\n",
       "        [0.74509804],\n",
       "        [0.77254902],\n",
       "        ...,\n",
       "        [0.13333333],\n",
       "        [0.13333333],\n",
       "        [0.13333333]],\n",
       "\n",
       "       [[0.7372549 ],\n",
       "        [0.74901961],\n",
       "        [0.75686275],\n",
       "        ...,\n",
       "        [0.13333333],\n",
       "        [0.1254902 ],\n",
       "        [0.1254902 ]],\n",
       "\n",
       "       [[0.58823529],\n",
       "        [0.75294118],\n",
       "        [0.75294118],\n",
       "        ...,\n",
       "        [0.12156863],\n",
       "        [0.12156863],\n",
       "        [0.1254902 ]]])"
      ]
     },
     "execution_count": 221,
     "metadata": {},
     "output_type": "execute_result"
    }
   ],
   "source": [
    "X[1]"
   ]
  },
  {
   "cell_type": "code",
   "execution_count": 222,
   "metadata": {},
   "outputs": [
    {
     "data": {
      "text/plain": [
       "(8000, 72, 72, 1)"
      ]
     },
     "execution_count": 222,
     "metadata": {},
     "output_type": "execute_result"
    }
   ],
   "source": [
    "X.shape"
   ]
  },
  {
   "cell_type": "code",
   "execution_count": 223,
   "metadata": {},
   "outputs": [],
   "source": [
    "model=Sequential()"
   ]
  },
  {
   "cell_type": "code",
   "execution_count": 224,
   "metadata": {},
   "outputs": [],
   "source": [
    "model.add(Conv2D(64,(3,3),input_shape=X.shape[1:]))\n",
    "model.add(Activation(\"relu\"))\n",
    "model.add(MaxPooling2D((2,2)))    \n",
    "\n",
    "model.add(Conv2D(64,(3,3)))\n",
    "model.add(Activation(\"relu\"))\n",
    "model.add(MaxPooling2D((2,2))) \n",
    "          \n",
    "model.add(Flatten())\n",
    "\n",
    "model.add(Dense(64))\n",
    "\n",
    "model.add(Dense(1)) \n",
    "model.add(Activation(\"sigmoid\"))         "
   ]
  },
  {
   "cell_type": "code",
   "execution_count": 225,
   "metadata": {},
   "outputs": [],
   "source": [
    "model.compile(loss='binary_crossentropy',optimizer=\"adam\",metrics=[\"accuracy\"])"
   ]
  },
  {
   "cell_type": "code",
   "execution_count": 226,
   "metadata": {},
   "outputs": [
    {
     "name": "stdout",
     "output_type": "stream",
     "text": [
      "Train on 7200 samples, validate on 800 samples\n",
      "Epoch 1/10\n",
      "7200/7200 [==============================] - 5s 724us/sample - loss: 0.6737 - acc: 0.5869 - val_loss: 0.6482 - val_acc: 0.6237\n",
      "Epoch 2/10\n",
      "7200/7200 [==============================] - 5s 641us/sample - loss: 0.6070 - acc: 0.6747 - val_loss: 0.5909 - val_acc: 0.7063\n",
      "Epoch 3/10\n",
      "7200/7200 [==============================] - 5s 651us/sample - loss: 0.5511 - acc: 0.7249 - val_loss: 0.5725 - val_acc: 0.6913\n",
      "Epoch 4/10\n",
      "7200/7200 [==============================] - 5s 644us/sample - loss: 0.5190 - acc: 0.7449 - val_loss: 0.5672 - val_acc: 0.7000\n",
      "Epoch 5/10\n",
      "7200/7200 [==============================] - 5s 645us/sample - loss: 0.4799 - acc: 0.7733 - val_loss: 0.5541 - val_acc: 0.7175\n",
      "Epoch 6/10\n",
      "7200/7200 [==============================] - 5s 645us/sample - loss: 0.4449 - acc: 0.7935 - val_loss: 0.5532 - val_acc: 0.7050\n",
      "Epoch 7/10\n",
      "7200/7200 [==============================] - 5s 652us/sample - loss: 0.4125 - acc: 0.8096 - val_loss: 0.5553 - val_acc: 0.7163\n",
      "Epoch 8/10\n",
      "7200/7200 [==============================] - 5s 651us/sample - loss: 0.3749 - acc: 0.8317 - val_loss: 0.5943 - val_acc: 0.7387\n",
      "Epoch 9/10\n",
      "7200/7200 [==============================] - 5s 648us/sample - loss: 0.3355 - acc: 0.8511 - val_loss: 0.6332 - val_acc: 0.7013\n",
      "Epoch 10/10\n",
      "7200/7200 [==============================] - 5s 647us/sample - loss: 0.2981 - acc: 0.8661 - val_loss: 0.7260 - val_acc: 0.7013\n"
     ]
    },
    {
     "data": {
      "text/plain": [
       "<tensorflow.python.keras.callbacks.History at 0x164421d5668>"
      ]
     },
     "execution_count": 226,
     "metadata": {},
     "output_type": "execute_result"
    }
   ],
   "source": [
    "model.fit(X,y,batch_size=32,epochs=10,validation_split=0.1)"
   ]
  },
  {
   "cell_type": "code",
   "execution_count": 236,
   "metadata": {},
   "outputs": [
    {
     "data": {
      "text/plain": [
       "<matplotlib.image.AxesImage at 0x1653c79a208>"
      ]
     },
     "execution_count": 236,
     "metadata": {},
     "output_type": "execute_result"
    },
    {
     "data": {
      "image/png": "[encoded data removed]",
      "text/plain": [
       "<matplotlib.figure.Figure at 0x1653c749a90>"
      ]
     },
     "metadata": {
      "needs_background": "light"
     },
     "output_type": "display_data"
    }
   ],
   "source": [
    "def image(filepath):\n",
    "    img_array=cv2.imread(filepath,cv2.IMREAD_GRAYSCALE)\n",
    "    new_array=cv2.resize(img_array,(IMG_SIZE,IMG_SIZE))\n",
    "    return new_array\n",
    "plt.imshow(image('C:/Users/MOHIT CHVK/Desktop/new trash/maplechristmas.jpg'))"
   ]
  },
  {
   "cell_type": "code",
   "execution_count": 232,
   "metadata": {},
   "outputs": [],
   "source": [
    "def prepare(filepath):\n",
    "    img_array=cv2.imread(filepath,cv2.IMREAD_GRAYSCALE)\n",
    "    new_array=cv2.resize(img_array,(IMG_SIZE,IMG_SIZE))\n",
    "    return new_array.reshape(-1,IMG_SIZE,IMG_SIZE,1)"
   ]
  },
  {
   "cell_type": "code",
   "execution_count": 235,
   "metadata": {},
   "outputs": [
    {
     "name": "stdout",
     "output_type": "stream",
     "text": [
      "cats\n"
     ]
    }
   ],
   "source": [
    "prediction=model.predict([prepare('C:/Users/MOHIT CHVK/Desktop/new trash/maplechristmas.jpg')])\n",
    "print(CATEGORIES[int(prediction[0][0])])"
   ]
  },
  {
   "cell_type": "code",
   "execution_count": 238,
   "metadata": {},
   "outputs": [
    {
     "data": {
      "text/plain": [
       "<matplotlib.image.AxesImage at 0x1653c77ce80>"
      ]
     },
     "execution_count": 238,
     "metadata": {},
     "output_type": "execute_result"
    },
    {
     "data": {
      "image/png": "[encoded data removed]",
      "text/plain": [
       "<matplotlib.figure.Figure at 0x1653c7a72e8>"
      ]
     },
     "metadata": {
      "needs_background": "light"
     },
     "output_type": "display_data"
    }
   ],
   "source": [
    "plt.imshow(image('C:/Users/MOHIT CHVK/Desktop/new trash/buddy.jpg'))"
   ]
  },
  {
   "cell_type": "code",
   "execution_count": 241,
   "metadata": {},
   "outputs": [
    {
     "name": "stdout",
     "output_type": "stream",
     "text": [
      "it is a category of dogs\n"
     ]
    }
   ],
   "source": [
    "prediction=model.predict([prepare('C:/Users/MOHIT CHVK/Desktop/new trash/buddy.jpg')])\n",
    "print(\"it is a category of \"+CATEGORIES[int(prediction[0][0])])"
   ]
  },
  {
   "cell_type": "code",
   "execution_count": 242,
   "metadata": {},
   "outputs": [
    {
     "data": {
      "text/plain": [
       "<matplotlib.image.AxesImage at 0x1653db9a470>"
      ]
     },
     "execution_count": 242,
     "metadata": {},
     "output_type": "execute_result"
    },
    {
     "data": {
      "image/png": "[encoded data removed]",
      "text/plain": [
       "<matplotlib.figure.Figure at 0x1653c79ad68>"
      ]
     },
     "metadata": {
      "needs_background": "light"
     },
     "output_type": "display_data"
    }
   ],
   "source": [
    "plt.imshow(image('C:/Users/MOHIT CHVK/Desktop/new trash/longhair.jpg'))"
   ]
  },
  {
   "cell_type": "code",
   "execution_count": 243,
   "metadata": {},
   "outputs": [
    {
     "name": "stdout",
     "output_type": "stream",
     "text": [
      "it is a category of cats\n"
     ]
    }
   ],
   "source": [
    "prediction=model.predict([prepare('C:/Users/MOHIT CHVK/Desktop/new trash/longhair.jpg')])\n",
    "print(\"it is a category of \"+CATEGORIES[int(prediction[0][0])])"
   ]
  },
  {
   "cell_type": "code",
   "execution_count": 244,
   "metadata": {},
   "outputs": [
    {
     "data": {
      "text/plain": [
       "<matplotlib.image.AxesImage at 0x1653dbdc748>"
      ]
     },
     "execution_count": 244,
     "metadata": {},
     "output_type": "execute_result"
    },
    {
     "data": {
      "image/png": "[encoded data removed]",
      "text/plain": [
       "<matplotlib.figure.Figure at 0x1653c6ff588>"
      ]
     },
     "metadata": {
      "needs_background": "light"
     },
     "output_type": "display_data"
    }
   ],
   "source": [
    "plt.imshow(image('C:/Users/MOHIT CHVK/Desktop/new trash/new.jpg'))"
   ]
  },
  {
   "cell_type": "code",
   "execution_count": 245,
   "metadata": {},
   "outputs": [
    {
     "name": "stdout",
     "output_type": "stream",
     "text": [
      "it is a category of dogs\n"
     ]
    }
   ],
   "source": [
    "prediction=model.predict([prepare('C:/Users/MOHIT CHVK/Desktop/new trash/new.jpg')])\n",
    "print(\"it is a category of \"+CATEGORIES[int(prediction[0][0])])"
   ]
  },
  {
   "cell_type": "code",
   "execution_count": null,
   "metadata": {},
   "outputs": [],
   "source": []
  }
 ],
 "metadata": {
  "kernelspec": {
   "display_name": "Python 3",
   "language": "python",
   "name": "python3"
  },
  "language_info": {
   "codemirror_mode": {
    "name": "ipython",
    "version": 3
   },
   "file_extension": ".py",
   "mimetype": "text/x-python",
   "name": "python",
   "nbconvert_exporter": "python",
   "pygments_lexer": "ipython3",
   "version": "3.6.10"
  }
 },
 "nbformat": 4,
 "nbformat_minor": 2
}
